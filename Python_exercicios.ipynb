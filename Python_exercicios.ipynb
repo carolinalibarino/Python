{
  "nbformat": 4,
  "nbformat_minor": 0,
  "metadata": {
    "colab": {
      "provenance": [],
      "name": "Python-exerc-cio.ipynb",
      "include_colab_link": true
    },
    "kernelspec": {
      "name": "python3",
      "display_name": "Python 3"
    },
    "language_info": {
      "name": "python"
    }
  },
  "cells": [
    {
      "cell_type": "markdown",
      "metadata": {
        "id": "view-in-github",
        "colab_type": "text"
      },
      "source": [
        "<a href=\"https://colab.research.google.com/github/carolinalibarino/Python/blob/main/Python_exercicios.ipynb\" target=\"_parent\"><img src=\"https://colab.research.google.com/assets/colab-badge.svg\" alt=\"Open In Colab\"/></a>"
      ]
    },
    {
      "cell_type": "markdown",
      "source": [
        "1. Faça um algoritmo que escreva na tela os números de um número inicial a um número final. Os números inicial e final devem ser informados pelo usuário;\n",
        "  sei a quantidade"
      ],
      "metadata": {
        "id": "LsRhYiKIL-8h"
      }
    },
    {
      "cell_type": "code",
      "source": [
        "num = int(input(\"digite o número inicial: \"))\n",
        "nume = int(input(\"digite o número final: \"))\n",
        "for contador in range(num,nume):\n",
        "    print(contador)\n"
      ],
      "metadata": {
        "colab": {
          "base_uri": "https://localhost:8080/"
        },
        "id": "TkXrjEk4MY1G",
        "outputId": "afc463c2-9f86-46c2-e924-a069d91ac0b8"
      },
      "execution_count": null,
      "outputs": [
        {
          "output_type": "stream",
          "name": "stdout",
          "text": [
            "digite o número inicial: 3\n",
            "digite o número final: 7\n",
            "3\n",
            "4\n",
            "5\n",
            "6\n"
          ]
        }
      ]
    },
    {
      "cell_type": "markdown",
      "source": [
        "2.Escrever um algoritmo que imprima a tabuada de um número informado pelo usuário;"
      ],
      "metadata": {
        "id": "imSrCsvLMBUO"
      }
    },
    {
      "cell_type": "code",
      "source": [
        "numero = int(input(\"Informe um número para calcular a tabuada: \"))\n",
        "\n",
        "for i in range(0, 11):\n",
        "    resultado = numero * i\n",
        "    print(f\"{numero} x {i} = {resultado}\")"
      ],
      "metadata": {
        "colab": {
          "base_uri": "https://localhost:8080/"
        },
        "id": "cLQM4mQKT0Go",
        "outputId": "4b1495d1-25eb-4de4-9b81-1816a65dc853"
      },
      "execution_count": null,
      "outputs": [
        {
          "output_type": "stream",
          "name": "stdout",
          "text": [
            "Informe um número para calcular a tabuada: 4\n",
            "4 x 0 = 0\n",
            "4 x 1 = 4\n",
            "4 x 2 = 8\n",
            "4 x 3 = 12\n",
            "4 x 4 = 16\n",
            "4 x 5 = 20\n",
            "4 x 6 = 24\n",
            "4 x 7 = 28\n",
            "4 x 8 = 32\n",
            "4 x 9 = 36\n",
            "4 x 10 = 40\n"
          ]
        }
      ]
    },
    {
      "cell_type": "markdown",
      "source": [
        "3.Escrever um algoritmo que gera e escreve os números ímpares entre 100 e 200;"
      ],
      "metadata": {
        "id": "ckEm5BD5MEJW"
      }
    },
    {
      "cell_type": "code",
      "source": [
        "for i in range(100,200):\n",
        "  if i % 2 == 1:\n",
        "    print(i)"
      ],
      "metadata": {
        "colab": {
          "base_uri": "https://localhost:8080/"
        },
        "id": "6WbYuLnJNGlI",
        "outputId": "2e46b626-322d-4494-d253-1e197e8ad1dd"
      },
      "execution_count": null,
      "outputs": [
        {
          "output_type": "stream",
          "name": "stdout",
          "text": [
            "101\n",
            "103\n",
            "105\n",
            "107\n",
            "109\n",
            "111\n",
            "113\n",
            "115\n",
            "117\n",
            "119\n",
            "121\n",
            "123\n",
            "125\n",
            "127\n",
            "129\n",
            "131\n",
            "133\n",
            "135\n",
            "137\n",
            "139\n",
            "141\n",
            "143\n",
            "145\n",
            "147\n",
            "149\n",
            "151\n",
            "153\n",
            "155\n",
            "157\n",
            "159\n",
            "161\n",
            "163\n",
            "165\n",
            "167\n",
            "169\n",
            "171\n",
            "173\n",
            "175\n",
            "177\n",
            "179\n",
            "181\n",
            "183\n",
            "185\n",
            "187\n",
            "189\n",
            "191\n",
            "193\n",
            "195\n",
            "197\n",
            "199\n"
          ]
        }
      ]
    },
    {
      "cell_type": "markdown",
      "source": [
        "4. Faça um programa que solicite cod da conta(exemplo: 122345) e senha(exemplo: 1234), o programa deve verificar o usuário e senha e tentar até três vezes para receber a senha correta, caso contrario o cartão é cancelado se digitar errado 3 vezes."
      ],
      "metadata": {
        "id": "_Jf6xBtQMGim"
      }
    },
    {
      "cell_type": "code",
      "source": [
        "conta1 = {\"codigo\": 122345, \"senha\": 1234, \"status\": \"ativo\"}\n",
        "\n",
        "def verificar_senha(codigo, senha):\n",
        "    if codigo == conta1[\"codigo\"]:\n",
        "        if conta1[\"senha\"] == senha:\n",
        "            return True\n",
        "        else:\n",
        "            return False\n",
        "    else:\n",
        "        return False\n",
        "\n",
        "def tentar_login():\n",
        "    tentativas = 0\n",
        "    while tentativas < 3:\n",
        "        codigo = int(input(\"Digite o código da conta: \"))\n",
        "        senha = int(input(\"Digite a senha: \"))\n",
        "        if verificar_senha(codigo, senha):\n",
        "            print(\"Bem-vindo! Você conseguiu logar com sucesso.\")\n",
        "            break\n",
        "        else:\n",
        "            print(\"Senha incorreta. Tente novamente.\")\n",
        "            tentativas += 1\n",
        "    if tentativas == 3:\n",
        "        print(\"Você tentou três vezes e errou todas. Cartão cancelado.\")\n",
        "        conta1[\"status\"] = \"cancelado\"\n",
        "\n",
        "def main():\n",
        "    print(\"Bem-vindo ao sistema de login. Tente fazer login na conta.\")\n",
        "    tentar_login()\n",
        "    print(\"Status da conta:\", conta1[\"status\"])\n",
        "\n",
        "if __name__ == \"__main__\":\n",
        "    main()\n"
      ],
      "metadata": {
        "colab": {
          "base_uri": "https://localhost:8080/"
        },
        "id": "ITG-jOD9RRUP",
        "outputId": "e27d7428-b4d0-4454-a17b-3ae6ba0dd634"
      },
      "execution_count": null,
      "outputs": [
        {
          "output_type": "stream",
          "name": "stdout",
          "text": [
            "Bem-vindo ao sistema de login. Tente fazer login na conta.\n",
            "Digite o código da conta: 122345\n",
            "Digite a senha: 12345\n",
            "Senha incorreta. Tente novamente.\n",
            "Digite o código da conta: 1234\n",
            "Digite a senha: 243\n",
            "Senha incorreta. Tente novamente.\n",
            "Digite o código da conta: 12234\n",
            "Digite a senha: 1234\n",
            "Senha incorreta. Tente novamente.\n",
            "Você tentou três vezes e errou todas. Cartão cancelado.\n",
            "Status da conta: cancelado\n"
          ]
        }
      ]
    },
    {
      "cell_type": "markdown",
      "source": [
        "5. Depois do Código anterior, caso o usuário digite o usuário e senha corretos o programa deve da a oportunidade do usuario escolher a operação a ser feita: Saque, depósito ou ver saldo,\n",
        "caso escolha saque ==> subtraia o valor do saque do seu saldo,\n",
        "caso escolha depósito ==> some o valor do depósito ao seu saldo,\n",
        "caso escolha saldo ==> mostre o saldo.\n",
        "caso escolha sair ==> sai do programa\n"
      ],
      "metadata": {
        "id": "_CBrcqF1MKv-"
      }
    },
    {
      "cell_type": "code",
      "source": [],
      "metadata": {
        "id": "qOQJMLkSTi6h"
      },
      "execution_count": null,
      "outputs": []
    },
    {
      "cell_type": "markdown",
      "source": [
        "6. Escreva um algoritmo que leia valores inteiros e encontre o maior e o menor deles. Termine a leitura se o usuário digitar zero (0);"
      ],
      "metadata": {
        "id": "OuAL6tvwMSfe"
      }
    },
    {
      "cell_type": "code",
      "source": [
        "num = int(input(\"digite o número: \"))\n",
        "nume = int(input(\"digite o número: \"))\n",
        "numer = int(input(\"digite o número: \"))\n",
        "numero = int(input(\"digite o número: \"))\n",
        "num5 = int(input(\"digite o número: \"))\n",
        "nume6 = int(input(\"digite o número: \"))\n",
        "numer7 = int(input(\"digite o número: \"))\n",
        "numero8 = int(input(\"digite o número: \"))\n",
        "\n",
        "\n",
        "lista = [num,nume, numer, numero,num5,nume6, numer7, numero8]\n",
        "\n",
        "maior = max(lista)\n",
        "menor = min(lista)\n",
        "print(\"O menor número é {} e o maior número é {}\".format(menor, maior))"
      ],
      "metadata": {
        "colab": {
          "base_uri": "https://localhost:8080/"
        },
        "id": "BP3t234UdVbv",
        "outputId": "21fa270a-b3f0-4bf8-e488-26b1dc5cc2ef"
      },
      "execution_count": null,
      "outputs": [
        {
          "output_type": "stream",
          "name": "stdout",
          "text": [
            "digite o número: 23\n",
            "digite o número: 23\n",
            "digite o número: 4\n",
            "digite o número: 34\n",
            "digite o número: 43\n",
            "digite o número: 21\n",
            "digite o número: 432\n",
            "digite o número: 123\n",
            "O menor número é 4 e o maior número é 432\n"
          ]
        }
      ]
    }
  ]
}