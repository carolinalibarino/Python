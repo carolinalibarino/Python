{
  "nbformat": 4,
  "nbformat_minor": 0,
  "metadata": {
    "colab": {
      "provenance": [],
      "authorship_tag": "ABX9TyO0/gInKhqK84jE28D3Wz9d",
      "include_colab_link": true
    },
    "kernelspec": {
      "name": "python3",
      "display_name": "Python 3"
    },
    "language_info": {
      "name": "python"
    }
  },
  "cells": [
    {
      "cell_type": "markdown",
      "metadata": {
        "id": "view-in-github",
        "colab_type": "text"
      },
      "source": [
        "<a href=\"https://colab.research.google.com/github/carolinalibarino/Python/blob/main/Python_exerc%C3%ADcios_fun%C3%A7%C3%A3o.ipynb\" target=\"_parent\"><img src=\"https://colab.research.google.com/assets/colab-badge.svg\" alt=\"Open In Colab\"/></a>"
      ]
    },
    {
      "cell_type": "markdown",
      "source": [
        "Crie um uma função, que recebe 3 parâmetros e tenha um retorno em python.\n",
        "Ela deve\n",
        "calcular o quanto o usuário irá gastar de gasolina. Para isso o usuário deverá informar:\n",
        "- Quantos KM irá viajar\n",
        "- Quantos KM o carro consome por litro de gasolina\n",
        "- Qual o Preço da Gasolina\n",
        "Para teste de mesa: Ao Final retorne o Valor gasto. Exemplo: Irei viajar 500km, meu carro\n",
        "consome 9km por litro, a gasolina custa R$ 4,00. Irei gastar: R$ 222,22.\n",
        "# O Retorno da Função seria R$ 222,22"
      ],
      "metadata": {
        "id": "CfLXCAiKaz8A"
      }
    },
    {
      "cell_type": "code",
      "source": [
        "def gasolina():\n",
        "  dist = int(input(\"Quantos KM irá viajar?\"))\n",
        "  litroporkm = int(input(\"Quantos litros por quilômetro o carro consome?\"))\n",
        "  valor= int(input(\"Qual o valor da gasolina?\"))\n",
        "\n",
        "\n",
        "  total = (dist/litroporkm) * valor\n",
        "  print(\"O valor gasto é: \", total)\n"
      ],
      "metadata": {
        "id": "ZHncJ3gGa1d2"
      },
      "execution_count": null,
      "outputs": []
    },
    {
      "cell_type": "code",
      "source": [
        "gasolina()"
      ],
      "metadata": {
        "colab": {
          "base_uri": "https://localhost:8080/"
        },
        "id": "5ZGcT4vIdT64",
        "outputId": "36c1d105-4fcd-4e77-876a-4bb6b0a6c116"
      },
      "execution_count": null,
      "outputs": [
        {
          "output_type": "stream",
          "name": "stdout",
          "text": [
            "Quantos KM irá viajar?500\n",
            "Quantos litros por quilômetro o carro consome?9\n",
            "Qual o valor da gasolina?4\n",
            "O valor gasto é:  222.22222222222223\n"
          ]
        }
      ]
    },
    {
      "cell_type": "markdown",
      "source": [
        "Crie uma função que receba como parâmetro um texto qualquer, dentro dessa função\n",
        "deverá ter um laço de repetição que percorra cada letra do texto e retorne a quantidade de\n",
        "vogais encontradas nesse texto.\n",
        "Dentro da função deverá conter:\n",
        "Uma string assim:\n",
        "vogaisstring = aeiouAEIOU\n",
        "ou uma lista assim:\n",
        "vogaislista = ['a','e', 'i', 'o', 'u', 'A', 'E', 'I', 'O', 'U']\n",
        "Para ir testando o algoritmo crie primeiro uma função que vá imprimindo aos poucos e\n",
        "somando aos poucos as vogais encontradas, assim com um texto pequeno você saberá se\n",
        "está funcionando, já que essa função poderá receber textos grandes posteriormente.\n"
      ],
      "metadata": {
        "id": "Bge6tgMoeWED"
      }
    },
    {
      "cell_type": "code",
      "source": [
        "def texto()"
      ],
      "metadata": {
        "id": "TFsKn0H8eYr-"
      },
      "execution_count": null,
      "outputs": []
    }
  ]
}